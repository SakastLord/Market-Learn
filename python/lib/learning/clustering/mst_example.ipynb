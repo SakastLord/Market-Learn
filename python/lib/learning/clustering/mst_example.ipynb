{
 "metadata": {
  "language_info": {
   "codemirror_mode": {
    "name": "ipython",
    "version": 3
   },
   "file_extension": ".py",
   "mimetype": "text/x-python",
   "name": "python",
   "nbconvert_exporter": "python",
   "pygments_lexer": "ipython3",
   "version": "3.6.10-final"
  },
  "orig_nbformat": 2,
  "kernelspec": {
   "name": "python3",
   "display_name": "Python 3"
  }
 },
 "nbformat": 4,
 "nbformat_minor": 2,
 "cells": [
  {
   "cell_type": "code",
   "execution_count": 1,
   "metadata": {},
   "outputs": [],
   "source": [
    "from learning.clustering.mst import MinimumSpanningTrees\n"
   ]
  },
  {
   "cell_type": "code",
   "execution_count": 2,
   "metadata": {},
   "outputs": [],
   "source": [
    "# set parameters here\n",
    "start = '2019-01-01'\n",
    "end = '2019-12-31'\n",
    "mst = MinimumSpanningTrees(start=start, end=end)\n",
    "# create a graph from distance computed from mst\n",
    "# share prices are the vertices and edges are the distance from two share prices\n",
    "g = mst.create_graph()\n",
    "tree = mst.mst_kruskal(g)"
   ]
  },
  {
   "cell_type": "code",
   "execution_count": 3,
   "metadata": {
    "tags": []
   },
   "outputs": [
    {
     "output_type": "execute_result",
     "data": {
      "text/plain": "[Edge((Vertex('MSFT'), Vertex('SPY')): 0.61,\n Edge((Vertex('AME'), Vertex('SPY')): 0.70,\n Edge((Vertex('APH'), Vertex('SPY')): 0.73,\n Edge((Vertex('ADBE'), Vertex('MSFT')): 0.73,\n Edge((Vertex('ACN'), Vertex('SPY')): 0.73,\n Edge((Vertex('ARE'), Vertex('BXP')): 0.74,\n Edge((Vertex('APTV'), Vertex('BWA')): 0.77,\n Edge((Vertex('ADI'), Vertex('SPY')): 0.78,\n Edge((Vertex('CE'), Vertex('SPY')): 0.79,\n Edge((Vertex('EFX'), Vertex('SPY')): 0.81,\n Edge((Vertex('COF'), Vertex('GS')): 0.81,\n Edge((Vertex('GS'), Vertex('SPY')): 0.82,\n Edge((Vertex('GOOG'), Vertex('SPY')): 0.82,\n Edge((Vertex('ADI'), Vertex('AMAT')): 0.82,\n Edge((Vertex('BDX'), Vertex('BSX')): 0.82,\n Edge((Vertex('AKAM'), Vertex('SPY')): 0.85,\n Edge((Vertex('APTV'), Vertex('SPY')): 0.87,\n Edge((Vertex('AMD'), Vertex('SPY')): 0.87,\n Edge((Vertex('BDX'), Vertex('SPY')): 0.87,\n Edge((Vertex('GD'), Vertex('SPY')): 0.88,\n Edge((Vertex('ACN'), Vertex('FIS')): 0.88,\n Edge((Vertex('BAX'), Vertex('BDX')): 0.88,\n Edge((Vertex('AME'), Vertex('MMM')): 0.89,\n Edge((Vertex('AFL'), Vertex('SPY')): 0.90,\n Edge((Vertex('ALB'), Vertex('SPY')): 0.93,\n Edge((Vertex('APD'), Vertex('SPY')): 0.94,\n Edge((Vertex('AAL'), Vertex('SPY')): 0.94,\n Edge((Vertex('BKNG'), Vertex('SPY')): 0.96,\n Edge((Vertex('ALLE'), Vertex('SPY')): 0.96,\n Edge((Vertex('CF'), Vertex('SPY')): 0.98,\n Edge((Vertex('BIO'), Vertex('SPY')): 1.00,\n Edge((Vertex('ATVI'), Vertex('SPY')): 1.00,\n Edge((Vertex('BXP'), Vertex('SPY')): 1.02,\n Edge((Vertex('AAL'), Vertex('TSLA')): 1.02,\n Edge((Vertex('AMT'), Vertex('ARE')): 1.04,\n Edge((Vertex('BMY'), Vertex('SPY')): 1.04,\n Edge((Vertex('BKR'), Vertex('SPY')): 1.05,\n Edge((Vertex('GE'), Vertex('SPY')): 1.06,\n Edge((Vertex('ABBV'), Vertex('SPY')): 1.06,\n Edge((Vertex('AMGN'), Vertex('SPY')): 1.06,\n Edge((Vertex('BA'), Vertex('SPY')): 1.07,\n Edge((Vertex('COF'), Vertex('KMX')): 1.08,\n Edge((Vertex('AES'), Vertex('BXP')): 1.09,\n Edge((Vertex('CNC'), Vertex('SPY')): 1.10,\n Edge((Vertex('ABC'), Vertex('SPY')): 1.11,\n Edge((Vertex('BWA'), Vertex('COG')): 1.14,\n Edge((Vertex('ABMD'), Vertex('BWA')): 1.14,\n Edge((Vertex('DLTR'), Vertex('SPY')): 1.20,\n Edge((Vertex('CBOE'), Vertex('FIS')): 1.24]"
     },
     "metadata": {},
     "execution_count": 3
    }
   ],
   "source": [
    "tree"
   ]
  },
  {
   "cell_type": "code",
   "execution_count": null,
   "metadata": {},
   "outputs": [],
   "source": []
  }
 ]
}